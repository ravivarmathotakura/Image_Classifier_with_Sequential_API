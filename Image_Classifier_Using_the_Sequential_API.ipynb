{
  "nbformat": 4,
  "nbformat_minor": 0,
  "metadata": {
    "colab": {
      "name": "Image Classifier Using the Sequential API_RV.ipynb",
      "provenance": [],
      "collapsed_sections": []
    },
    "kernelspec": {
      "name": "python3",
      "display_name": "Python 3"
    }
  },
  "cells": [
    {
      "cell_type": "code",
      "metadata": {
        "id": "rBuagkdgMt00",
        "colab_type": "code",
        "colab": {}
      },
      "source": [
        "# # Python ≥3.5 is required\n",
        "# import sys\n",
        "# assert sys.version_info >= (3, 5)\n",
        "\n",
        "# # Scikit-Learn ≥0.20 is required\n",
        "# import sklearn\n",
        "# assert sklearn.__version__ >= \"0.20\"\n",
        "\n",
        "# try:\n",
        "#     # %tensorflow_version only exists in Colab.\n",
        "#     %tensorflow_version 2.x\n",
        "# except Exception:\n",
        "#     pass\n",
        "\n",
        "# # TensorFlow ≥2.0 is required\n",
        "# import tensorflow as tf\n",
        "# assert tf.__version__ >= \"2.0\"\n",
        "\n",
        "# Common imports\n",
        "import numpy as np\n",
        "import os\n",
        "\n",
        "# to make this notebook's output stable across runs\n",
        "np.random.seed(42)\n",
        "\n",
        "# To plot pretty figures\n",
        "%matplotlib inline\n",
        "import matplotlib as mpl\n",
        "import matplotlib.pyplot as plt\n",
        "mpl.rc('axes', labelsize=14)\n",
        "mpl.rc('xtick', labelsize=12)\n",
        "mpl.rc('ytick', labelsize=12)\n",
        "\n",
        "# Where to save the figures\n",
        "PROJECT_ROOT_DIR = \".\"\n",
        "CHAPTER_ID = \"ann\"\n",
        "IMAGES_PATH = os.path.join(PROJECT_ROOT_DIR, \"images\", CHAPTER_ID)\n",
        "os.makedirs(IMAGES_PATH, exist_ok=True)\n",
        "\n",
        "def save_fig(fig_id, tight_layout=True, fig_extension=\"png\", resolution=300):\n",
        "    path = os.path.join(IMAGES_PATH, fig_id + \".\" + fig_extension)\n",
        "    print(\"Saving figure\", fig_id)\n",
        "    if tight_layout:\n",
        "        plt.tight_layout()\n",
        "    plt.savefig(path, format=fig_extension, dpi=resolution)\n",
        "\n",
        "# Ignore useless warnings (see SciPy issue #5998)\n",
        "import warnings\n",
        "warnings.filterwarnings(action=\"ignore\", message=\"^internal gelsd\")"
      ],
      "execution_count": 2,
      "outputs": []
    },
    {
      "cell_type": "markdown",
      "metadata": {
        "id": "Z7Bc4hIKDAWg",
        "colab_type": "text"
      },
      "source": [
        "First let's import TensorFlow and Keras."
      ]
    },
    {
      "cell_type": "code",
      "metadata": {
        "id": "MTjQwpc1_k9t",
        "colab_type": "code",
        "colab": {}
      },
      "source": [
        "import tensorflow as tf\n",
        "from tensorflow import keras"
      ],
      "execution_count": 3,
      "outputs": []
    },
    {
      "cell_type": "code",
      "metadata": {
        "id": "mEY_9V3Y_sHM",
        "colab_type": "code",
        "colab": {
          "base_uri": "https://localhost:8080/",
          "height": 53
        },
        "outputId": "23d985de-52d4-47c3-fa2c-3d4c131b55c1"
      },
      "source": [
        "print(\"TensorFlow Version: {}\".format(tf.__version__), end='\\n'\"Keras Version:  {}\".format(keras.__version__))"
      ],
      "execution_count": 4,
      "outputs": [
        {
          "output_type": "stream",
          "text": [
            "TensorFlow Version: 2.3.0\n",
            "Keras Version:  2.4.0"
          ],
          "name": "stdout"
        }
      ]
    },
    {
      "cell_type": "markdown",
      "metadata": {
        "id": "stkUYatoC91L",
        "colab_type": "text"
      },
      "source": [
        "Using Keras to Load the Dataset"
      ]
    },
    {
      "cell_type": "code",
      "metadata": {
        "id": "yUUj0M-XFgEp",
        "colab_type": "code",
        "colab": {
          "base_uri": "https://localhost:8080/",
          "height": 161
        },
        "outputId": "02d8bf9b-3a79-4feb-b967-6bc43080b526"
      },
      "source": [
        "fashion_mnist = keras.datasets.fashion_mnist\n",
        "(X_train_full, y_train_full), (X_test, y_test) = fashion_mnist.load_data()"
      ],
      "execution_count": 5,
      "outputs": [
        {
          "output_type": "stream",
          "text": [
            "Downloading data from https://storage.googleapis.com/tensorflow/tf-keras-datasets/train-labels-idx1-ubyte.gz\n",
            "32768/29515 [=================================] - 0s 0us/step\n",
            "Downloading data from https://storage.googleapis.com/tensorflow/tf-keras-datasets/train-images-idx3-ubyte.gz\n",
            "26427392/26421880 [==============================] - 0s 0us/step\n",
            "Downloading data from https://storage.googleapis.com/tensorflow/tf-keras-datasets/t10k-labels-idx1-ubyte.gz\n",
            "8192/5148 [===============================================] - 0s 0us/step\n",
            "Downloading data from https://storage.googleapis.com/tensorflow/tf-keras-datasets/t10k-images-idx3-ubyte.gz\n",
            "4423680/4422102 [==============================] - 0s 0us/step\n"
          ],
          "name": "stdout"
        }
      ]
    },
    {
      "cell_type": "code",
      "metadata": {
        "id": "uH8G8ubtFt2X",
        "colab_type": "code",
        "colab": {
          "base_uri": "https://localhost:8080/",
          "height": 35
        },
        "outputId": "319ba986-ce62-4714-e92a-fa9a9973c628"
      },
      "source": [
        "X_train_full.shape"
      ],
      "execution_count": 6,
      "outputs": [
        {
          "output_type": "execute_result",
          "data": {
            "text/plain": [
              "(60000, 28, 28)"
            ]
          },
          "metadata": {
            "tags": []
          },
          "execution_count": 6
        }
      ]
    },
    {
      "cell_type": "code",
      "metadata": {
        "id": "N8lxCwa-Gcwh",
        "colab_type": "code",
        "colab": {
          "base_uri": "https://localhost:8080/",
          "height": 35
        },
        "outputId": "352946db-9c4a-4f17-bf22-7fc17002e4be"
      },
      "source": [
        "X_train_full.dtype"
      ],
      "execution_count": 7,
      "outputs": [
        {
          "output_type": "execute_result",
          "data": {
            "text/plain": [
              "dtype('uint8')"
            ]
          },
          "metadata": {
            "tags": []
          },
          "execution_count": 7
        }
      ]
    },
    {
      "cell_type": "code",
      "metadata": {
        "id": "JDKdhSJEG5-X",
        "colab_type": "code",
        "colab": {}
      },
      "source": [
        "X_valid, X_train = X_train_full[:5000] / 255.0, X_train_full[5000:] / 255.0\n",
        "y_valid, y_train = y_train_full[:5000], y_train_full[5000:]\n",
        "X_test = X_test / 255.0"
      ],
      "execution_count": 8,
      "outputs": []
    },
    {
      "cell_type": "code",
      "metadata": {
        "id": "wuSEEHhcHvAU",
        "colab_type": "code",
        "colab": {}
      },
      "source": [
        "class_names = [\"T-shirt/top\", \"Trouser\", \"Pullover\", \"Dress\", \"Coat\",\n",
        "               \"Sandal\", \"Shirt\", \"Sneaker\", \"Bag\", \"Ankle boot\"]"
      ],
      "execution_count": 9,
      "outputs": []
    },
    {
      "cell_type": "code",
      "metadata": {
        "id": "KWMmrczNLxy3",
        "colab_type": "code",
        "colab": {
          "base_uri": "https://localhost:8080/",
          "height": 35
        },
        "outputId": "0793aa76-308c-42b9-de18-30018b20fc4a"
      },
      "source": [
        "class_names[y_train[0]]"
      ],
      "execution_count": 10,
      "outputs": [
        {
          "output_type": "execute_result",
          "data": {
            "application/vnd.google.colaboratory.intrinsic+json": {
              "type": "string"
            },
            "text/plain": [
              "'Coat'"
            ]
          },
          "metadata": {
            "tags": []
          },
          "execution_count": 10
        }
      ]
    },
    {
      "cell_type": "markdown",
      "metadata": {
        "id": "tpEBAd-OMIhR",
        "colab_type": "text"
      },
      "source": [
        "Let's take a look at a few sample of the images in the Fashion MNIST dataset:"
      ]
    },
    {
      "cell_type": "code",
      "metadata": {
        "id": "JaNfzOwqMXM4",
        "colab_type": "code",
        "colab": {
          "base_uri": "https://localhost:8080/",
          "height": 308
        },
        "outputId": "d033858f-a124-47aa-dfd9-37840ff839f3"
      },
      "source": [
        "n_rows = 4\n",
        "n_cols = 10\n",
        "plt.figure(figsize=(n_cols * 1.2, n_rows * 1.2))\n",
        "for row in range(n_rows):\n",
        "    for col in range(n_cols):\n",
        "        index = n_cols * row + col\n",
        "        plt.subplot(n_rows, n_cols, index + 1)\n",
        "        plt.imshow(X_train[index], cmap=\"binary\", interpolation=\"nearest\")\n",
        "        plt.axis('off')\n",
        "        plt.title(class_names[y_train[index]], fontsize=12)\n",
        "plt.subplots_adjust(wspace=0.2, hspace=0.5)\n",
        "plt.show()"
      ],
      "execution_count": 11,
      "outputs": [
        {
          "output_type": "display_data",
          "data": {
            "image/png": "[encoded data removed]",
            "text/plain": [
              "<Figure size 864x345.6 with 40 Axes>"
            ]
          },
          "metadata": {
            "tags": [],
            "needs_background": "light"
          }
        }
      ]
    },
    {
      "cell_type": "markdown",
      "metadata": {
        "id": "IIiz7K9aNbVn",
        "colab_type": "text"
      },
      "source": [
        "# **Creating the Model Using the Sequential API**\n",
        "Now let’s build the neural network! Here is a classification MLP with two hidden layers:"
      ]
    },
    {
      "cell_type": "code",
      "metadata": {
        "id": "8Z6EAEwLNrtr",
        "colab_type": "code",
        "colab": {}
      },
      "source": [
        "model = keras.models.Sequential()\n",
        "model.add(keras.layers.Flatten(input_shape=[28, 28]))\n",
        "model.add(keras.layers.Dense(300, activation=\"relu\"))\n",
        "model.add(keras.layers.Dense(100, activation=\"relu\"))\n",
        "model.add(keras.layers.Dense(10, activation=\"softmax\"))"
      ],
      "execution_count": 12,
      "outputs": []
    },
    {
      "cell_type": "markdown",
      "metadata": {
        "id": "loH-Uc-iRULg",
        "colab_type": "text"
      },
      "source": [
        "Instead of adding the layers one by one as we just did, you can pass a list of layers\n",
        "when creating the Sequential model:"
      ]
    },
    {
      "cell_type": "code",
      "metadata": {
        "id": "4NyNZyA_R-jj",
        "colab_type": "code",
        "colab": {}
      },
      "source": [
        "model = keras.models.Sequential([\n",
        "    keras.layers.Flatten(input_shape=[28, 28]),\n",
        "    keras.layers.Dense(300, activation=\"relu\"),\n",
        "    keras.layers.Dense(100, activation=\"relu\"),\n",
        "    keras.layers.Dense(10, activation=\"softmax\")\n",
        "])"
      ],
      "execution_count": 13,
      "outputs": []
    },
    {
      "cell_type": "code",
      "metadata": {
        "id": "H8ocI76-UNho",
        "colab_type": "code",
        "colab": {
          "base_uri": "https://localhost:8080/",
          "height": 305
        },
        "outputId": "a5de8b96-99ab-48be-d5a1-3f99995dfa6a"
      },
      "source": [
        "model.summary()"
      ],
      "execution_count": 14,
      "outputs": [
        {
          "output_type": "stream",
          "text": [
            "Model: \"sequential_1\"\n",
            "_________________________________________________________________\n",
            "Layer (type)                 Output Shape              Param #   \n",
            "=================================================================\n",
            "flatten_1 (Flatten)          (None, 784)               0         \n",
            "_________________________________________________________________\n",
            "dense_3 (Dense)              (None, 300)               235500    \n",
            "_________________________________________________________________\n",
            "dense_4 (Dense)              (None, 100)               30100     \n",
            "_________________________________________________________________\n",
            "dense_5 (Dense)              (None, 10)                1010      \n",
            "=================================================================\n",
            "Total params: 266,610\n",
            "Trainable params: 266,610\n",
            "Non-trainable params: 0\n",
            "_________________________________________________________________\n"
          ],
          "name": "stdout"
        }
      ]
    },
    {
      "cell_type": "code",
      "metadata": {
        "id": "4suCJQpEU8i6",
        "colab_type": "code",
        "colab": {
          "base_uri": "https://localhost:8080/",
          "height": 89
        },
        "outputId": "dfc6e5b4-c4ac-4a48-8355-e2f68d16c066"
      },
      "source": [
        "model.layers"
      ],
      "execution_count": 15,
      "outputs": [
        {
          "output_type": "execute_result",
          "data": {
            "text/plain": [
              "[<tensorflow.python.keras.layers.core.Flatten at 0x7f3d73c18e48>,\n",
              " <tensorflow.python.keras.layers.core.Dense at 0x7f3d76b00240>,\n",
              " <tensorflow.python.keras.layers.core.Dense at 0x7f3d6abd68d0>,\n",
              " <tensorflow.python.keras.layers.core.Dense at 0x7f3d6abe3550>]"
            ]
          },
          "metadata": {
            "tags": []
          },
          "execution_count": 15
        }
      ]
    },
    {
      "cell_type": "code",
      "metadata": {
        "id": "FNSi3lUzVHRp",
        "colab_type": "code",
        "colab": {
          "base_uri": "https://localhost:8080/",
          "height": 35
        },
        "outputId": "f1ccb1d8-4ab7-4abb-c31f-e722c0184e76"
      },
      "source": [
        "model.layers[1].name"
      ],
      "execution_count": 16,
      "outputs": [
        {
          "output_type": "execute_result",
          "data": {
            "application/vnd.google.colaboratory.intrinsic+json": {
              "type": "string"
            },
            "text/plain": [
              "'dense_3'"
            ]
          },
          "metadata": {
            "tags": []
          },
          "execution_count": 16
        }
      ]
    },
    {
      "cell_type": "code",
      "metadata": {
        "id": "MmuinT_eVOC6",
        "colab_type": "code",
        "colab": {
          "base_uri": "https://localhost:8080/",
          "height": 35
        },
        "outputId": "a5ca8eff-d22d-47ab-a29c-d0a8f7592d4e"
      },
      "source": [
        "model.get_layer('dense_3').name"
      ],
      "execution_count": 17,
      "outputs": [
        {
          "output_type": "execute_result",
          "data": {
            "application/vnd.google.colaboratory.intrinsic+json": {
              "type": "string"
            },
            "text/plain": [
              "'dense_3'"
            ]
          },
          "metadata": {
            "tags": []
          },
          "execution_count": 17
        }
      ]
    },
    {
      "cell_type": "code",
      "metadata": {
        "id": "4E22rmFhWU-n",
        "colab_type": "code",
        "colab": {
          "base_uri": "https://localhost:8080/",
          "height": 533
        },
        "outputId": "d4b9c51d-e1be-40b7-d662-227efa8489cc"
      },
      "source": [
        "keras.utils.plot_model(model, \"my_fashion_mnist_model.png\", show_shapes=True)"
      ],
      "execution_count": 18,
      "outputs": [
        {
          "output_type": "execute_result",
          "data": {
            "image/png": "[encoded data removed]",
            "text/plain": [
              "<IPython.core.display.Image object>"
            ]
          },
          "metadata": {
            "tags": []
          },
          "execution_count": 18
        }
      ]
    },
    {
      "cell_type": "code",
      "metadata": {
        "id": "0255JaGsXWQm",
        "colab_type": "code",
        "colab": {
          "base_uri": "https://localhost:8080/",
          "height": 35
        },
        "outputId": "3a2aea9d-3f3e-4171-cae7-67caf8e7cd91"
      },
      "source": [
        "hidden1 = model.layers[1]\n",
        "hidden1.name"
      ],
      "execution_count": 19,
      "outputs": [
        {
          "output_type": "execute_result",
          "data": {
            "application/vnd.google.colaboratory.intrinsic+json": {
              "type": "string"
            },
            "text/plain": [
              "'dense_3'"
            ]
          },
          "metadata": {
            "tags": []
          },
          "execution_count": 19
        }
      ]
    },
    {
      "cell_type": "code",
      "metadata": {
        "id": "jghbGtyrXaS6",
        "colab_type": "code",
        "colab": {
          "base_uri": "https://localhost:8080/",
          "height": 35
        },
        "outputId": "0886870c-cb11-4e15-c98b-b4435ff2f562"
      },
      "source": [
        "model.get_layer(hidden1.name) is hidden1"
      ],
      "execution_count": 20,
      "outputs": [
        {
          "output_type": "execute_result",
          "data": {
            "text/plain": [
              "True"
            ]
          },
          "metadata": {
            "tags": []
          },
          "execution_count": 20
        }
      ]
    },
    {
      "cell_type": "code",
      "metadata": {
        "id": "6Bz4DVBsXd0e",
        "colab_type": "code",
        "colab": {}
      },
      "source": [
        "weights, biases = hidden1.get_weights()"
      ],
      "execution_count": 21,
      "outputs": []
    },
    {
      "cell_type": "code",
      "metadata": {
        "id": "3F8WCM7TXhp4",
        "colab_type": "code",
        "colab": {
          "base_uri": "https://localhost:8080/",
          "height": 251
        },
        "outputId": "3a679080-7152-4911-ef4f-fe9a34abef63"
      },
      "source": [
        "weights"
      ],
      "execution_count": 22,
      "outputs": [
        {
          "output_type": "execute_result",
          "data": {
            "text/plain": [
              "array([[ 0.06808659,  0.04520075, -0.05722191, ...,  0.05538046,\n",
              "         0.03497204,  0.01773745],\n",
              "       [-0.05695155,  0.07366203,  0.01997493, ...,  0.0600166 ,\n",
              "        -0.05514305, -0.02983351],\n",
              "       [ 0.02392098,  0.07299146, -0.06372372, ..., -0.05353341,\n",
              "        -0.01390976, -0.04159983],\n",
              "       ...,\n",
              "       [-0.03756049,  0.02320587, -0.0738119 , ...,  0.00950366,\n",
              "         0.02087919,  0.00592733],\n",
              "       [ 0.04615352,  0.04134376,  0.00678897, ...,  0.05624183,\n",
              "         0.02271756,  0.02017601],\n",
              "       [-0.00293332, -0.03814102, -0.00321672, ...,  0.001851  ,\n",
              "         0.07349205, -0.05699775]], dtype=float32)"
            ]
          },
          "metadata": {
            "tags": []
          },
          "execution_count": 22
        }
      ]
    },
    {
      "cell_type": "code",
      "metadata": {
        "id": "JAFsgyR_XlEI",
        "colab_type": "code",
        "colab": {
          "base_uri": "https://localhost:8080/",
          "height": 35
        },
        "outputId": "06dd2e7e-6ac7-48c6-ab51-39639aa57160"
      },
      "source": [
        "weights.shape"
      ],
      "execution_count": 23,
      "outputs": [
        {
          "output_type": "execute_result",
          "data": {
            "text/plain": [
              "(784, 300)"
            ]
          },
          "metadata": {
            "tags": []
          },
          "execution_count": 23
        }
      ]
    },
    {
      "cell_type": "code",
      "metadata": {
        "id": "piO1j7WLXnUk",
        "colab_type": "code",
        "colab": {
          "base_uri": "https://localhost:8080/",
          "height": 341
        },
        "outputId": "02591c15-1a12-4b4d-df82-694b79708a12"
      },
      "source": [
        "biases"
      ],
      "execution_count": 24,
      "outputs": [
        {
          "output_type": "execute_result",
          "data": {
            "text/plain": [
              "array([0., 0., 0., 0., 0., 0., 0., 0., 0., 0., 0., 0., 0., 0., 0., 0., 0.,\n",
              "       0., 0., 0., 0., 0., 0., 0., 0., 0., 0., 0., 0., 0., 0., 0., 0., 0.,\n",
              "       0., 0., 0., 0., 0., 0., 0., 0., 0., 0., 0., 0., 0., 0., 0., 0., 0.,\n",
              "       0., 0., 0., 0., 0., 0., 0., 0., 0., 0., 0., 0., 0., 0., 0., 0., 0.,\n",
              "       0., 0., 0., 0., 0., 0., 0., 0., 0., 0., 0., 0., 0., 0., 0., 0., 0.,\n",
              "       0., 0., 0., 0., 0., 0., 0., 0., 0., 0., 0., 0., 0., 0., 0., 0., 0.,\n",
              "       0., 0., 0., 0., 0., 0., 0., 0., 0., 0., 0., 0., 0., 0., 0., 0., 0.,\n",
              "       0., 0., 0., 0., 0., 0., 0., 0., 0., 0., 0., 0., 0., 0., 0., 0., 0.,\n",
              "       0., 0., 0., 0., 0., 0., 0., 0., 0., 0., 0., 0., 0., 0., 0., 0., 0.,\n",
              "       0., 0., 0., 0., 0., 0., 0., 0., 0., 0., 0., 0., 0., 0., 0., 0., 0.,\n",
              "       0., 0., 0., 0., 0., 0., 0., 0., 0., 0., 0., 0., 0., 0., 0., 0., 0.,\n",
              "       0., 0., 0., 0., 0., 0., 0., 0., 0., 0., 0., 0., 0., 0., 0., 0., 0.,\n",
              "       0., 0., 0., 0., 0., 0., 0., 0., 0., 0., 0., 0., 0., 0., 0., 0., 0.,\n",
              "       0., 0., 0., 0., 0., 0., 0., 0., 0., 0., 0., 0., 0., 0., 0., 0., 0.,\n",
              "       0., 0., 0., 0., 0., 0., 0., 0., 0., 0., 0., 0., 0., 0., 0., 0., 0.,\n",
              "       0., 0., 0., 0., 0., 0., 0., 0., 0., 0., 0., 0., 0., 0., 0., 0., 0.,\n",
              "       0., 0., 0., 0., 0., 0., 0., 0., 0., 0., 0., 0., 0., 0., 0., 0., 0.,\n",
              "       0., 0., 0., 0., 0., 0., 0., 0., 0., 0., 0.], dtype=float32)"
            ]
          },
          "metadata": {
            "tags": []
          },
          "execution_count": 24
        }
      ]
    },
    {
      "cell_type": "code",
      "metadata": {
        "id": "CjEcG_MJXq7-",
        "colab_type": "code",
        "colab": {
          "base_uri": "https://localhost:8080/",
          "height": 35
        },
        "outputId": "1f4e6f32-3dfb-4630-c648-444f280506a3"
      },
      "source": [
        "biases.shape"
      ],
      "execution_count": 25,
      "outputs": [
        {
          "output_type": "execute_result",
          "data": {
            "text/plain": [
              "(300,)"
            ]
          },
          "metadata": {
            "tags": []
          },
          "execution_count": 25
        }
      ]
    },
    {
      "cell_type": "markdown",
      "metadata": {
        "id": "-H96SQ3IY1xW",
        "colab_type": "text"
      },
      "source": [
        "Compiling the Model"
      ]
    },
    {
      "cell_type": "code",
      "metadata": {
        "id": "aAJ9n0DvY_4n",
        "colab_type": "code",
        "colab": {}
      },
      "source": [
        "model.compile(loss=\"sparse_categorical_crossentropy\",\n",
        "              optimizer=\"sgd\",\n",
        "              metrics=[\"accuracy\"])"
      ],
      "execution_count": 26,
      "outputs": []
    },
    {
      "cell_type": "code",
      "metadata": {
        "id": "Iutq3ArqZVVP",
        "colab_type": "code",
        "colab": {}
      },
      "source": [
        "model.compile(loss=keras.losses.sparse_categorical_crossentropy,\n",
        "              optimizer=keras.optimizers.SGD(),\n",
        "              metrics=[keras.metrics.sparse_categorical_accuracy])"
      ],
      "execution_count": 27,
      "outputs": []
    },
    {
      "cell_type": "markdown",
      "metadata": {
        "id": "ZZqxLIdsaG3v",
        "colab_type": "text"
      },
      "source": [
        "Training and Evaluating the Model"
      ]
    },
    {
      "cell_type": "code",
      "metadata": {
        "id": "cBQSuKSLb1GO",
        "colab_type": "code",
        "colab": {
          "base_uri": "https://localhost:8080/",
          "height": 1000
        },
        "outputId": "28503e35-0e84-4fea-a15a-f2da5aa01d4e"
      },
      "source": [
        "history = model.fit(X_train, y_train, epochs=30,\n",
        "                    validation_data=(X_valid, y_valid))"
      ],
      "execution_count": 28,
      "outputs": [
        {
          "output_type": "stream",
          "text": [
            "Epoch 1/30\n",
            "1719/1719 [==============================] - 6s 3ms/step - loss: 0.7053 - sparse_categorical_accuracy: 0.7726 - val_loss: 0.5019 - val_sparse_categorical_accuracy: 0.8306\n",
            "Epoch 2/30\n",
            "1719/1719 [==============================] - 6s 4ms/step - loss: 0.4871 - sparse_categorical_accuracy: 0.8297 - val_loss: 0.4512 - val_sparse_categorical_accuracy: 0.8466\n",
            "Epoch 3/30\n",
            "1719/1719 [==============================] - 6s 3ms/step - loss: 0.4444 - sparse_categorical_accuracy: 0.8434 - val_loss: 0.4166 - val_sparse_categorical_accuracy: 0.8560\n",
            "Epoch 4/30\n",
            "1719/1719 [==============================] - 5s 3ms/step - loss: 0.4186 - sparse_categorical_accuracy: 0.8533 - val_loss: 0.4217 - val_sparse_categorical_accuracy: 0.8502\n",
            "Epoch 5/30\n",
            "1719/1719 [==============================] - 5s 3ms/step - loss: 0.3990 - sparse_categorical_accuracy: 0.8590 - val_loss: 0.3869 - val_sparse_categorical_accuracy: 0.8674\n",
            "Epoch 6/30\n",
            "1719/1719 [==============================] - 5s 3ms/step - loss: 0.3830 - sparse_categorical_accuracy: 0.8643 - val_loss: 0.3766 - val_sparse_categorical_accuracy: 0.8698\n",
            "Epoch 7/30\n",
            "1719/1719 [==============================] - 5s 3ms/step - loss: 0.3686 - sparse_categorical_accuracy: 0.8693 - val_loss: 0.3778 - val_sparse_categorical_accuracy: 0.8668\n",
            "Epoch 8/30\n",
            "1719/1719 [==============================] - 5s 3ms/step - loss: 0.3559 - sparse_categorical_accuracy: 0.8747 - val_loss: 0.3649 - val_sparse_categorical_accuracy: 0.8752\n",
            "Epoch 9/30\n",
            "1719/1719 [==============================] - 6s 3ms/step - loss: 0.3455 - sparse_categorical_accuracy: 0.8778 - val_loss: 0.3676 - val_sparse_categorical_accuracy: 0.8730\n",
            "Epoch 10/30\n",
            "1719/1719 [==============================] - 6s 3ms/step - loss: 0.3363 - sparse_categorical_accuracy: 0.8805 - val_loss: 0.3377 - val_sparse_categorical_accuracy: 0.8808\n",
            "Epoch 11/30\n",
            "1719/1719 [==============================] - 6s 3ms/step - loss: 0.3262 - sparse_categorical_accuracy: 0.8840 - val_loss: 0.3588 - val_sparse_categorical_accuracy: 0.8726\n",
            "Epoch 12/30\n",
            "1719/1719 [==============================] - 6s 3ms/step - loss: 0.3193 - sparse_categorical_accuracy: 0.8863 - val_loss: 0.3630 - val_sparse_categorical_accuracy: 0.8694\n",
            "Epoch 13/30\n",
            "1719/1719 [==============================] - 6s 3ms/step - loss: 0.3116 - sparse_categorical_accuracy: 0.8886 - val_loss: 0.3310 - val_sparse_categorical_accuracy: 0.8816\n",
            "Epoch 14/30\n",
            "1719/1719 [==============================] - 6s 3ms/step - loss: 0.3041 - sparse_categorical_accuracy: 0.8906 - val_loss: 0.3263 - val_sparse_categorical_accuracy: 0.8832\n",
            "Epoch 15/30\n",
            "1719/1719 [==============================] - 5s 3ms/step - loss: 0.2982 - sparse_categorical_accuracy: 0.8920 - val_loss: 0.3182 - val_sparse_categorical_accuracy: 0.8864\n",
            "Epoch 16/30\n",
            "1719/1719 [==============================] - 5s 3ms/step - loss: 0.2922 - sparse_categorical_accuracy: 0.8949 - val_loss: 0.3152 - val_sparse_categorical_accuracy: 0.8868\n",
            "Epoch 17/30\n",
            "1719/1719 [==============================] - 6s 3ms/step - loss: 0.2855 - sparse_categorical_accuracy: 0.8974 - val_loss: 0.3232 - val_sparse_categorical_accuracy: 0.8862\n",
            "Epoch 18/30\n",
            "1719/1719 [==============================] - 6s 3ms/step - loss: 0.2803 - sparse_categorical_accuracy: 0.8989 - val_loss: 0.3070 - val_sparse_categorical_accuracy: 0.8894\n",
            "Epoch 19/30\n",
            "1719/1719 [==============================] - 6s 3ms/step - loss: 0.2757 - sparse_categorical_accuracy: 0.9014 - val_loss: 0.3186 - val_sparse_categorical_accuracy: 0.8832\n",
            "Epoch 20/30\n",
            "1719/1719 [==============================] - 6s 3ms/step - loss: 0.2699 - sparse_categorical_accuracy: 0.9026 - val_loss: 0.3104 - val_sparse_categorical_accuracy: 0.8896\n",
            "Epoch 21/30\n",
            "1719/1719 [==============================] - 6s 4ms/step - loss: 0.2657 - sparse_categorical_accuracy: 0.9042 - val_loss: 0.3123 - val_sparse_categorical_accuracy: 0.8856\n",
            "Epoch 22/30\n",
            "1719/1719 [==============================] - 6s 3ms/step - loss: 0.2607 - sparse_categorical_accuracy: 0.9069 - val_loss: 0.3114 - val_sparse_categorical_accuracy: 0.8902\n",
            "Epoch 23/30\n",
            "1719/1719 [==============================] - 5s 3ms/step - loss: 0.2562 - sparse_categorical_accuracy: 0.9072 - val_loss: 0.3115 - val_sparse_categorical_accuracy: 0.8864\n",
            "Epoch 24/30\n",
            "1719/1719 [==============================] - 6s 3ms/step - loss: 0.2513 - sparse_categorical_accuracy: 0.9094 - val_loss: 0.3220 - val_sparse_categorical_accuracy: 0.8798\n",
            "Epoch 25/30\n",
            "1719/1719 [==============================] - 6s 3ms/step - loss: 0.2475 - sparse_categorical_accuracy: 0.9112 - val_loss: 0.3120 - val_sparse_categorical_accuracy: 0.8864\n",
            "Epoch 26/30\n",
            "1719/1719 [==============================] - 5s 3ms/step - loss: 0.2428 - sparse_categorical_accuracy: 0.9126 - val_loss: 0.3136 - val_sparse_categorical_accuracy: 0.8880\n",
            "Epoch 27/30\n",
            "1719/1719 [==============================] - 5s 3ms/step - loss: 0.2390 - sparse_categorical_accuracy: 0.9142 - val_loss: 0.3121 - val_sparse_categorical_accuracy: 0.8882\n",
            "Epoch 28/30\n",
            "1719/1719 [==============================] - 5s 3ms/step - loss: 0.2349 - sparse_categorical_accuracy: 0.9166 - val_loss: 0.3024 - val_sparse_categorical_accuracy: 0.8900\n",
            "Epoch 29/30\n",
            "1719/1719 [==============================] - 5s 3ms/step - loss: 0.2316 - sparse_categorical_accuracy: 0.9169 - val_loss: 0.3030 - val_sparse_categorical_accuracy: 0.8958\n",
            "Epoch 30/30\n",
            "1719/1719 [==============================] - 6s 3ms/step - loss: 0.2283 - sparse_categorical_accuracy: 0.9181 - val_loss: 0.3056 - val_sparse_categorical_accuracy: 0.8912\n"
          ],
          "name": "stdout"
        }
      ]
    },
    {
      "cell_type": "code",
      "metadata": {
        "id": "FrG-jCSPesB6",
        "colab_type": "code",
        "colab": {
          "base_uri": "https://localhost:8080/",
          "height": 35
        },
        "outputId": "e7f2af8f-7bfd-4e17-9d5e-69bf7d6d507b"
      },
      "source": [
        "history.params"
      ],
      "execution_count": 29,
      "outputs": [
        {
          "output_type": "execute_result",
          "data": {
            "text/plain": [
              "{'epochs': 30, 'steps': 1719, 'verbose': 1}"
            ]
          },
          "metadata": {
            "tags": []
          },
          "execution_count": 29
        }
      ]
    },
    {
      "cell_type": "code",
      "metadata": {
        "id": "oV5_ryVoe_Og",
        "colab_type": "code",
        "colab": {
          "base_uri": "https://localhost:8080/",
          "height": 35
        },
        "outputId": "ab6b35a6-3781-45a0-ee33-639c73991a3d"
      },
      "source": [
        "print(history.epoch)"
      ],
      "execution_count": 30,
      "outputs": [
        {
          "output_type": "stream",
          "text": [
            "[0, 1, 2, 3, 4, 5, 6, 7, 8, 9, 10, 11, 12, 13, 14, 15, 16, 17, 18, 19, 20, 21, 22, 23, 24, 25, 26, 27, 28, 29]\n"
          ],
          "name": "stdout"
        }
      ]
    },
    {
      "cell_type": "code",
      "metadata": {
        "id": "2alBQGcNfDz8",
        "colab_type": "code",
        "colab": {
          "base_uri": "https://localhost:8080/",
          "height": 35
        },
        "outputId": "7d81c680-a01e-4e6c-c637-a9ff9fc8f88e"
      },
      "source": [
        "history.history.keys()"
      ],
      "execution_count": 31,
      "outputs": [
        {
          "output_type": "execute_result",
          "data": {
            "text/plain": [
              "dict_keys(['loss', 'sparse_categorical_accuracy', 'val_loss', 'val_sparse_categorical_accuracy'])"
            ]
          },
          "metadata": {
            "tags": []
          },
          "execution_count": 31
        }
      ]
    },
    {
      "cell_type": "code",
      "metadata": {
        "id": "FmXyQVDnfK-J",
        "colab_type": "code",
        "colab": {
          "base_uri": "https://localhost:8080/",
          "height": 328
        },
        "outputId": "7d8abc38-758f-4cd1-cad0-43a4d69053e5"
      },
      "source": [
        "import pandas as pd\n",
        "\n",
        "pd.DataFrame(history.history).plot(figsize=(8, 5))\n",
        "plt.grid(True)\n",
        "plt.gca().set_ylim(0, 1) # set the vertical range to [0-1]\n",
        "plt.show()"
      ],
      "execution_count": 32,
      "outputs": [
        {
          "output_type": "display_data",
          "data": {
            "image/png": "[encoded data removed]",
            "text/plain": [
              "<Figure size 576x360 with 1 Axes>"
            ]
          },
          "metadata": {
            "tags": [],
            "needs_background": "light"
          }
        }
      ]
    },
    {
      "cell_type": "code",
      "metadata": {
        "id": "JZbKWE-Cg1pu",
        "colab_type": "code",
        "colab": {
          "base_uri": "https://localhost:8080/",
          "height": 53
        },
        "outputId": "f7bc6238-625c-43a4-930e-491f704331d4"
      },
      "source": [
        "model.evaluate(X_test, y_test)"
      ],
      "execution_count": 33,
      "outputs": [
        {
          "output_type": "stream",
          "text": [
            "313/313 [==============================] - 1s 2ms/step - loss: 0.3413 - sparse_categorical_accuracy: 0.8818\n"
          ],
          "name": "stdout"
        },
        {
          "output_type": "execute_result",
          "data": {
            "text/plain": [
              "[0.3412538170814514, 0.8817999958992004]"
            ]
          },
          "metadata": {
            "tags": []
          },
          "execution_count": 33
        }
      ]
    },
    {
      "cell_type": "markdown",
      "metadata": {
        "id": "mLXMeLzyhOiG",
        "colab_type": "text"
      },
      "source": [
        "Using the Model to Make Predictions"
      ]
    },
    {
      "cell_type": "code",
      "metadata": {
        "id": "EXH7G60JhY73",
        "colab_type": "code",
        "colab": {
          "base_uri": "https://localhost:8080/",
          "height": 89
        },
        "outputId": "a57f4169-9e95-44d2-bb7c-aa0b2ea753c0"
      },
      "source": [
        "X_new = X_test[:3]\n",
        "y_proba = model.predict(X_new)\n",
        "y_proba.round(2)"
      ],
      "execution_count": 34,
      "outputs": [
        {
          "output_type": "execute_result",
          "data": {
            "text/plain": [
              "array([[0.  , 0.  , 0.  , 0.  , 0.  , 0.  , 0.  , 0.01, 0.  , 0.99],\n",
              "       [0.  , 0.  , 0.99, 0.  , 0.01, 0.  , 0.  , 0.  , 0.  , 0.  ],\n",
              "       [0.  , 1.  , 0.  , 0.  , 0.  , 0.  , 0.  , 0.  , 0.  , 0.  ]],\n",
              "      dtype=float32)"
            ]
          },
          "metadata": {
            "tags": []
          },
          "execution_count": 34
        }
      ]
    },
    {
      "cell_type": "code",
      "metadata": {
        "id": "7XKQt2YOhyuV",
        "colab_type": "code",
        "colab": {
          "base_uri": "https://localhost:8080/",
          "height": 109
        },
        "outputId": "ee09907c-c8af-4eeb-e107-4f990fdb4ddc"
      },
      "source": [
        "y_pred = model.predict_classes(X_new)\n",
        "y_pred"
      ],
      "execution_count": 35,
      "outputs": [
        {
          "output_type": "stream",
          "text": [
            "WARNING:tensorflow:From <ipython-input-35-81ace37e545f>:1: Sequential.predict_classes (from tensorflow.python.keras.engine.sequential) is deprecated and will be removed after 2021-01-01.\n",
            "Instructions for updating:\n",
            "Please use instead:* `np.argmax(model.predict(x), axis=-1)`,   if your model does multi-class classification   (e.g. if it uses a `softmax` last-layer activation).* `(model.predict(x) > 0.5).astype(\"int32\")`,   if your model does binary classification   (e.g. if it uses a `sigmoid` last-layer activation).\n"
          ],
          "name": "stdout"
        },
        {
          "output_type": "execute_result",
          "data": {
            "text/plain": [
              "array([9, 2, 1])"
            ]
          },
          "metadata": {
            "tags": []
          },
          "execution_count": 35
        }
      ]
    },
    {
      "cell_type": "code",
      "metadata": {
        "id": "tZkEYe2UiLfT",
        "colab_type": "code",
        "colab": {
          "base_uri": "https://localhost:8080/",
          "height": 35
        },
        "outputId": "8cf65cf8-bd25-4866-c8ea-e490a2fb0e20"
      },
      "source": [
        "np.array(class_names)[y_pred]"
      ],
      "execution_count": 36,
      "outputs": [
        {
          "output_type": "execute_result",
          "data": {
            "text/plain": [
              "array(['Ankle boot', 'Pullover', 'Trouser'], dtype='<U11')"
            ]
          },
          "metadata": {
            "tags": []
          },
          "execution_count": 36
        }
      ]
    },
    {
      "cell_type": "markdown",
      "metadata": {
        "id": "DUDP_Ozljp05",
        "colab_type": "text"
      },
      "source": [
        "And the classifier actually classified all three images correctly:"
      ]
    },
    {
      "cell_type": "code",
      "metadata": {
        "id": "4MeixnYYjwA2",
        "colab_type": "code",
        "colab": {
          "base_uri": "https://localhost:8080/",
          "height": 35
        },
        "outputId": "6245fc9e-c0ff-4daf-870f-9807184d49ce"
      },
      "source": [
        "y_new = y_test[:3]\n",
        "y_new"
      ],
      "execution_count": 37,
      "outputs": [
        {
          "output_type": "execute_result",
          "data": {
            "text/plain": [
              "array([9, 2, 1], dtype=uint8)"
            ]
          },
          "metadata": {
            "tags": []
          },
          "execution_count": 37
        }
      ]
    },
    {
      "cell_type": "code",
      "metadata": {
        "id": "qzoSOwNikGB7",
        "colab_type": "code",
        "colab": {
          "base_uri": "https://localhost:8080/",
          "height": 165
        },
        "outputId": "968aa6a1-2548-483b-8b0a-fcc09d700fd7"
      },
      "source": [
        "plt.figure(figsize=(7.2, 2.4))\n",
        "for index, image in enumerate(X_new):\n",
        "    plt.subplot(1, 3, index + 1)\n",
        "    plt.imshow(image, cmap=\"binary\", interpolation=\"nearest\")\n",
        "    plt.axis('off')\n",
        "    plt.title(class_names[y_test[index]], fontsize=12)\n",
        "plt.subplots_adjust(wspace=0.2, hspace=0.5)\n",
        "plt.show()"
      ],
      "execution_count": 38,
      "outputs": [
        {
          "output_type": "display_data",
          "data": {
            "image/png": "[encoded data removed]",
            "text/plain": [
              "<Figure size 518.4x172.8 with 3 Axes>"
            ]
          },
          "metadata": {
            "tags": [],
            "needs_background": "light"
          }
        }
      ]
    },
    {
      "cell_type": "markdown",
      "metadata": {
        "id": "CezuJD7gmjRL",
        "colab_type": "text"
      },
      "source": [
        "Saving and Restoring a Model"
      ]
    },
    {
      "cell_type": "code",
      "metadata": {
        "id": "b1rY6i4UmrqF",
        "colab_type": "code",
        "colab": {}
      },
      "source": [
        "model.save(\"my_keras_model.h5\")"
      ],
      "execution_count": 39,
      "outputs": []
    },
    {
      "cell_type": "code",
      "metadata": {
        "id": "upIXCV-tnI5m",
        "colab_type": "code",
        "colab": {}
      },
      "source": [
        "model = keras.models.load_model(\"my_keras_model.h5\")"
      ],
      "execution_count": 40,
      "outputs": []
    },
    {
      "cell_type": "code",
      "metadata": {
        "id": "9qySoECloLAM",
        "colab_type": "code",
        "colab": {
          "base_uri": "https://localhost:8080/",
          "height": 179
        },
        "outputId": "80edde64-4a59-4f1f-8754-f8f19073a816"
      },
      "source": [
        "model.predict(X_new)"
      ],
      "execution_count": 41,
      "outputs": [
        {
          "output_type": "execute_result",
          "data": {
            "text/plain": [
              "array([[3.43684042e-06, 4.36878963e-07, 7.03421301e-06, 3.96290602e-07,\n",
              "        3.70023213e-06, 4.34176950e-03, 3.27696421e-06, 1.02050565e-02,\n",
              "        1.38854288e-04, 9.85296071e-01],\n",
              "       [5.83206536e-04, 3.40372139e-08, 9.89576578e-01, 5.33323474e-09,\n",
              "        9.32212546e-03, 1.20019125e-11, 5.17747947e-04, 1.03002340e-12,\n",
              "        3.32464140e-07, 4.35615866e-12],\n",
              "       [3.27866292e-05, 9.99956250e-01, 3.87056389e-06, 1.43500165e-06,\n",
              "        5.69837948e-06, 6.14776979e-12, 1.09979792e-09, 5.80572035e-09,\n",
              "        1.11966847e-09, 9.82196324e-10]], dtype=float32)"
            ]
          },
          "metadata": {
            "tags": []
          },
          "execution_count": 41
        }
      ]
    },
    {
      "cell_type": "code",
      "metadata": {
        "id": "AZ7FVogsoO2y",
        "colab_type": "code",
        "colab": {}
      },
      "source": [
        "model.save_weights(\"my_keras_weights.ckpt\")"
      ],
      "execution_count": 42,
      "outputs": []
    },
    {
      "cell_type": "code",
      "metadata": {
        "id": "m6WNWmaOoRVz",
        "colab_type": "code",
        "colab": {
          "base_uri": "https://localhost:8080/",
          "height": 35
        },
        "outputId": "d7f350f4-3b0b-48b3-d09b-1dd92b6662cd"
      },
      "source": [
        "model.load_weights(\"my_keras_weights.ckpt\")"
      ],
      "execution_count": 43,
      "outputs": [
        {
          "output_type": "execute_result",
          "data": {
            "text/plain": [
              "<tensorflow.python.training.tracking.util.CheckpointLoadStatus at 0x7f3d72fea668>"
            ]
          },
          "metadata": {
            "tags": []
          },
          "execution_count": 43
        }
      ]
    },
    {
      "cell_type": "markdown",
      "metadata": {
        "id": "fZ-O3UIin7NE",
        "colab_type": "text"
      },
      "source": [
        "Using Callbacks"
      ]
    },
    {
      "cell_type": "code",
      "metadata": {
        "id": "oo5ibsE3pVce",
        "colab_type": "code",
        "colab": {
          "base_uri": "https://localhost:8080/",
          "height": 377
        },
        "outputId": "3d6aac71-ca27-45d1-f09e-573f3e3b31e0"
      },
      "source": [
        "## After Build and Compile the Model\n",
        "checkpoint_cb = keras.callbacks.ModelCheckpoint(\"my_keras_model.h5\")\n",
        "history = model.fit(X_train, y_train, epochs=10, callbacks=[checkpoint_cb])"
      ],
      "execution_count": 44,
      "outputs": [
        {
          "output_type": "stream",
          "text": [
            "Epoch 1/10\n",
            "1719/1719 [==============================] - 5s 3ms/step - loss: 0.2237 - sparse_categorical_accuracy: 0.9201\n",
            "Epoch 2/10\n",
            "1719/1719 [==============================] - 5s 3ms/step - loss: 0.2210 - sparse_categorical_accuracy: 0.9195\n",
            "Epoch 3/10\n",
            "1719/1719 [==============================] - 5s 3ms/step - loss: 0.2170 - sparse_categorical_accuracy: 0.9226\n",
            "Epoch 4/10\n",
            "1719/1719 [==============================] - 5s 3ms/step - loss: 0.2133 - sparse_categorical_accuracy: 0.9236\n",
            "Epoch 5/10\n",
            "1719/1719 [==============================] - 5s 3ms/step - loss: 0.2104 - sparse_categorical_accuracy: 0.9246\n",
            "Epoch 6/10\n",
            "1719/1719 [==============================] - 5s 3ms/step - loss: 0.2060 - sparse_categorical_accuracy: 0.9258\n",
            "Epoch 7/10\n",
            "1719/1719 [==============================] - 5s 3ms/step - loss: 0.2031 - sparse_categorical_accuracy: 0.9273\n",
            "Epoch 8/10\n",
            "1719/1719 [==============================] - 6s 3ms/step - loss: 0.2002 - sparse_categorical_accuracy: 0.9273\n",
            "Epoch 9/10\n",
            "1719/1719 [==============================] - 5s 3ms/step - loss: 0.1974 - sparse_categorical_accuracy: 0.9293\n",
            "Epoch 10/10\n",
            "1719/1719 [==============================] - 6s 4ms/step - loss: 0.1934 - sparse_categorical_accuracy: 0.9311\n"
          ],
          "name": "stdout"
        }
      ]
    },
    {
      "cell_type": "code",
      "metadata": {
        "id": "TuHr_53tqCie",
        "colab_type": "code",
        "colab": {
          "base_uri": "https://localhost:8080/",
          "height": 397
        },
        "outputId": "89858752-d8a5-4381-f530-4582fd6d1de9"
      },
      "source": [
        "checkpoint_cb = keras.callbacks.ModelCheckpoint(\"my_keras_model.h5\", \n",
        "                                                save_best_only=True)\n",
        "\n",
        "history = model.fit(X_train, y_train, epochs=10,\n",
        "                    validation_data=(X_valid, y_valid),\n",
        "                    callbacks=[checkpoint_cb])\n",
        "\n",
        "model = keras.models.load_model(\"my_keras_model.h5\") # rollback to best model"
      ],
      "execution_count": 45,
      "outputs": [
        {
          "output_type": "stream",
          "text": [
            "Epoch 1/10\n",
            "1719/1719 [==============================] - 6s 3ms/step - loss: 0.1912 - sparse_categorical_accuracy: 0.9313 - val_loss: 0.2994 - val_sparse_categorical_accuracy: 0.8930\n",
            "Epoch 2/10\n",
            "1719/1719 [==============================] - 6s 3ms/step - loss: 0.1885 - sparse_categorical_accuracy: 0.9331 - val_loss: 0.2967 - val_sparse_categorical_accuracy: 0.8976\n",
            "Epoch 3/10\n",
            "1719/1719 [==============================] - 5s 3ms/step - loss: 0.1862 - sparse_categorical_accuracy: 0.9333 - val_loss: 0.3191 - val_sparse_categorical_accuracy: 0.8900\n",
            "Epoch 4/10\n",
            "1719/1719 [==============================] - 5s 3ms/step - loss: 0.1822 - sparse_categorical_accuracy: 0.9351 - val_loss: 0.2922 - val_sparse_categorical_accuracy: 0.8938\n",
            "Epoch 5/10\n",
            "1719/1719 [==============================] - 5s 3ms/step - loss: 0.1802 - sparse_categorical_accuracy: 0.9356 - val_loss: 0.3009 - val_sparse_categorical_accuracy: 0.8916\n",
            "Epoch 6/10\n",
            "1719/1719 [==============================] - 5s 3ms/step - loss: 0.1766 - sparse_categorical_accuracy: 0.9363 - val_loss: 0.3092 - val_sparse_categorical_accuracy: 0.8946\n",
            "Epoch 7/10\n",
            "1719/1719 [==============================] - 5s 3ms/step - loss: 0.1731 - sparse_categorical_accuracy: 0.9395 - val_loss: 0.2953 - val_sparse_categorical_accuracy: 0.8946\n",
            "Epoch 8/10\n",
            "1719/1719 [==============================] - 5s 3ms/step - loss: 0.1716 - sparse_categorical_accuracy: 0.9378 - val_loss: 0.3111 - val_sparse_categorical_accuracy: 0.8924\n",
            "Epoch 9/10\n",
            "1719/1719 [==============================] - 5s 3ms/step - loss: 0.1693 - sparse_categorical_accuracy: 0.9389 - val_loss: 0.2903 - val_sparse_categorical_accuracy: 0.8964\n",
            "Epoch 10/10\n",
            "1719/1719 [==============================] - 5s 3ms/step - loss: 0.1661 - sparse_categorical_accuracy: 0.9410 - val_loss: 0.2991 - val_sparse_categorical_accuracy: 0.8936\n"
          ],
          "name": "stdout"
        }
      ]
    },
    {
      "cell_type": "code",
      "metadata": {
        "id": "v879gG-Eq5Vv",
        "colab_type": "code",
        "colab": {
          "base_uri": "https://localhost:8080/",
          "height": 649
        },
        "outputId": "d6d4910f-abe8-4d0f-8e3c-55951a936f3c"
      },
      "source": [
        "early_stopping_cb = keras.callbacks.EarlyStopping(patience=10,\n",
        "                                                  restore_best_weights=True)\n",
        "\n",
        "history = model.fit(X_train, y_train, epochs=100,\n",
        "                    validation_data=(X_valid, y_valid),\n",
        "                    callbacks=[checkpoint_cb, early_stopping_cb])"
      ],
      "execution_count": 46,
      "outputs": [
        {
          "output_type": "stream",
          "text": [
            "Epoch 1/100\n",
            "1719/1719 [==============================] - 6s 3ms/step - loss: 0.1661 - sparse_categorical_accuracy: 0.9407 - val_loss: 0.3127 - val_sparse_categorical_accuracy: 0.8958\n",
            "Epoch 2/100\n",
            "1719/1719 [==============================] - 6s 4ms/step - loss: 0.1623 - sparse_categorical_accuracy: 0.9419 - val_loss: 0.2923 - val_sparse_categorical_accuracy: 0.8954\n",
            "Epoch 3/100\n",
            "1719/1719 [==============================] - 6s 3ms/step - loss: 0.1610 - sparse_categorical_accuracy: 0.9427 - val_loss: 0.2942 - val_sparse_categorical_accuracy: 0.8982\n",
            "Epoch 4/100\n",
            "1719/1719 [==============================] - 6s 4ms/step - loss: 0.1585 - sparse_categorical_accuracy: 0.9437 - val_loss: 0.3010 - val_sparse_categorical_accuracy: 0.8942\n",
            "Epoch 5/100\n",
            "1719/1719 [==============================] - 6s 3ms/step - loss: 0.1557 - sparse_categorical_accuracy: 0.9443 - val_loss: 0.3038 - val_sparse_categorical_accuracy: 0.8966\n",
            "Epoch 6/100\n",
            "1719/1719 [==============================] - 5s 3ms/step - loss: 0.1531 - sparse_categorical_accuracy: 0.9455 - val_loss: 0.3152 - val_sparse_categorical_accuracy: 0.8916\n",
            "Epoch 7/100\n",
            "1719/1719 [==============================] - 5s 3ms/step - loss: 0.1504 - sparse_categorical_accuracy: 0.9473 - val_loss: 0.2905 - val_sparse_categorical_accuracy: 0.8990\n",
            "Epoch 8/100\n",
            "1719/1719 [==============================] - 5s 3ms/step - loss: 0.1467 - sparse_categorical_accuracy: 0.9491 - val_loss: 0.2980 - val_sparse_categorical_accuracy: 0.8972\n",
            "Epoch 9/100\n",
            "1719/1719 [==============================] - 5s 3ms/step - loss: 0.1463 - sparse_categorical_accuracy: 0.9485 - val_loss: 0.3292 - val_sparse_categorical_accuracy: 0.8952\n",
            "Epoch 10/100\n",
            "1719/1719 [==============================] - 5s 3ms/step - loss: 0.1442 - sparse_categorical_accuracy: 0.9486 - val_loss: 0.2937 - val_sparse_categorical_accuracy: 0.8958\n",
            "Epoch 11/100\n",
            "1719/1719 [==============================] - 5s 3ms/step - loss: 0.1407 - sparse_categorical_accuracy: 0.9510 - val_loss: 0.2983 - val_sparse_categorical_accuracy: 0.8988\n",
            "Epoch 12/100\n",
            "1719/1719 [==============================] - 6s 3ms/step - loss: 0.1397 - sparse_categorical_accuracy: 0.9505 - val_loss: 0.3009 - val_sparse_categorical_accuracy: 0.8982\n",
            "Epoch 13/100\n",
            "1719/1719 [==============================] - 5s 3ms/step - loss: 0.1368 - sparse_categorical_accuracy: 0.9522 - val_loss: 0.3087 - val_sparse_categorical_accuracy: 0.8962\n",
            "Epoch 14/100\n",
            "1719/1719 [==============================] - 5s 3ms/step - loss: 0.1348 - sparse_categorical_accuracy: 0.9525 - val_loss: 0.3190 - val_sparse_categorical_accuracy: 0.8966\n",
            "Epoch 15/100\n",
            "1719/1719 [==============================] - 5s 3ms/step - loss: 0.1330 - sparse_categorical_accuracy: 0.9528 - val_loss: 0.3115 - val_sparse_categorical_accuracy: 0.8994\n",
            "Epoch 16/100\n",
            "1719/1719 [==============================] - 5s 3ms/step - loss: 0.1292 - sparse_categorical_accuracy: 0.9552 - val_loss: 0.3216 - val_sparse_categorical_accuracy: 0.8926\n",
            "Epoch 17/100\n",
            "1719/1719 [==============================] - 5s 3ms/step - loss: 0.1270 - sparse_categorical_accuracy: 0.9561 - val_loss: 0.2980 - val_sparse_categorical_accuracy: 0.9024\n"
          ],
          "name": "stdout"
        }
      ]
    },
    {
      "cell_type": "code",
      "metadata": {
        "id": "e_oJFJIcsMax",
        "colab_type": "code",
        "colab": {}
      },
      "source": [
        "class PrintValTrainRatioCallback(keras.callbacks.Callback):\n",
        "    def on_epoch_end(self, epoch, logs):\n",
        "        print(\"\\nval/train: {:.2f}\".format(logs[\"val_loss\"] / logs[\"loss\"]))"
      ],
      "execution_count": 47,
      "outputs": []
    },
    {
      "cell_type": "code",
      "metadata": {
        "id": "IJW-JFWZsQ8-",
        "colab_type": "code",
        "colab": {
          "base_uri": "https://localhost:8080/",
          "height": 91
        },
        "outputId": "85b2d95e-b0e7-449a-910f-1a075fc1324d"
      },
      "source": [
        "val_train_ratio_cb = PrintValTrainRatioCallback()\n",
        "\n",
        "history = model.fit(X_train, y_train, epochs=1,\n",
        "                    validation_data=(X_valid, y_valid),\n",
        "                    callbacks=[val_train_ratio_cb])"
      ],
      "execution_count": 48,
      "outputs": [
        {
          "output_type": "stream",
          "text": [
            "1706/1719 [============================>.] - ETA: 0s - loss: 0.1478 - sparse_categorical_accuracy: 0.9475\n",
            "val/train: 2.11\n",
            "1719/1719 [==============================] - 6s 3ms/step - loss: 0.1479 - sparse_categorical_accuracy: 0.9476 - val_loss: 0.3122 - val_sparse_categorical_accuracy: 0.8928\n"
          ],
          "name": "stdout"
        }
      ]
    }
  ]
}